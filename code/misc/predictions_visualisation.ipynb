{
 "nbformat": 4,
 "nbformat_minor": 0,
 "metadata": {
  "colab": {
   "provenance": [],
   "gpuType": "T4",
   "authorship_tag": "ABX9TyMNeEFvZQ56+CSvq78k/Qw8"
  },
  "kernelspec": {
   "name": "python3",
   "display_name": "Python 3"
  },
  "language_info": {
   "name": "python"
  },
  "accelerator": "GPU"
 },
 "cells": [
  {
   "cell_type": "code",
   "source": [
    "%load_ext autoreload\n",
    "%autoreload 2"
   ],
   "metadata": {
    "colab": {
     "base_uri": "https://localhost:8080/"
    },
    "id": "mPOA6aqFFhjk",
    "executionInfo": {
     "status": "ok",
     "timestamp": 1712317713762,
     "user_tz": -120,
     "elapsed": 7,
     "user": {
      "displayName": "Ladislav Floriš",
      "userId": "00923364794303765935"
     }
    },
    "outputId": "c3fa00ff-fdd0-4840-fcf9-23de778745c5"
   },
   "execution_count": 2,
   "outputs": [
    {
     "output_type": "stream",
     "name": "stdout",
     "text": [
      "The autoreload extension is already loaded. To reload it, use:\n",
      "  %reload_ext autoreload\n"
     ]
    }
   ]
  },
  {
   "cell_type": "code",
   "source": [
    "import matplotlib.pyplot as plt\n",
    "import os\n",
    "import tensorflow as tf\n",
    "\n",
    "from core.pre_processing import build_ohio_dataset, get_patient_window"
   ],
   "metadata": {
    "id": "RSAuFWv6Fq2z",
    "executionInfo": {
     "status": "ok",
     "timestamp": 1712317757054,
     "user_tz": -120,
     "elapsed": 11894,
     "user": {
      "displayName": "Ladislav Floriš",
      "userId": "00923364794303765935"
     }
    }
   },
   "execution_count": 5,
   "outputs": []
  },
  {
   "cell_type": "code",
   "source": [
    "root_path = \"models\"\n",
    "\n",
    "SAMPL_FREQ = 5\n",
    "\n",
    "PATIENTS_2018 = [\"559\", \"563\", \"570\", \"575\", \"588\", \"591\"]\n",
    "PATIENTS_2020 = [\"540\", \"544\", \"552\", \"567\", \"584\", \"596\"]"
   ],
   "metadata": {
    "id": "V_hISGXaF8JI",
    "executionInfo": {
     "status": "ok",
     "timestamp": 1712317967953,
     "user_tz": -120,
     "elapsed": 325,
     "user": {
      "displayName": "Ladislav Floriš",
      "userId": "00923364794303765935"
     }
    }
   },
   "execution_count": 10,
   "outputs": []
  },
  {
   "cell_type": "code",
   "source": [
    "# 6 steps -> 30 minutes prediction horizon\n",
    "PH = 6\n",
    "batch_size = 256\n",
    "\n",
    "# 30 minutes of input\n",
    "input_len = 30\n",
    "\n",
    "features = [\"Time\", \"Glucose\", \"Rapid Insulin sub_tissue\", \"Carbohydrates gut\", \"finger_stick\"]"
   ],
   "metadata": {
    "id": "gtpk-FCkF_ZC",
    "executionInfo": {
     "status": "ok",
     "timestamp": 1712317802016,
     "user_tz": -120,
     "elapsed": 3,
     "user": {
      "displayName": "Ladislav Floriš",
      "userId": "00923364794303765935"
     }
    }
   },
   "execution_count": 7,
   "outputs": []
  },
  {
   "cell_type": "code",
   "source": [
    "# Load dataset\n",
    "dataset_2020 = build_ohio_dataset(\"2020\")"
   ],
   "metadata": {
    "colab": {
     "base_uri": "https://localhost:8080/"
    },
    "id": "LKj8gkisGE0o",
    "executionInfo": {
     "status": "ok",
     "timestamp": 1712318374714,
     "user_tz": -120,
     "elapsed": 132643,
     "user": {
      "displayName": "Ladislav Floriš",
      "userId": "00923364794303765935"
     }
    },
    "outputId": "2d60598f-0d69-4752-817c-d5a8ed7bc6f6"
   },
   "execution_count": 17,
   "outputs": [
    {
     "output_type": "stream",
     "name": "stdout",
     "text": [
      "Using time to peak: 100 for patient 540\n",
      "Identified 22 gaps for train set of 540\n",
      "Identified 8 gaps for val set of 540\n",
      "Identified 8 gaps for test set of 540\n",
      "Using time to peak: 100 for patient 544\n",
      "Identified 15 gaps for train set of 544\n",
      "Identified 7 gaps for val set of 544\n",
      "Identified 6 gaps for test set of 544\n",
      "Using time to peak: 100 for patient 552\n",
      "Identified 34 gaps for train set of 552\n",
      "Identified 10 gaps for val set of 552\n",
      "Identified 10 gaps for test set of 552\n",
      "Empty carbs\n",
      "Using time to peak: 100 for patient 567\n",
      "Identified 46 gaps for train set of 567\n",
      "Identified 10 gaps for val set of 567\n",
      "Identified 11 gaps for test set of 567\n",
      "Using time to peak: 100 for patient 584\n",
      "Identified 45 gaps for train set of 584\n",
      "Identified 14 gaps for val set of 584\n",
      "Identified 15 gaps for test set of 584\n",
      "Using time to peak: 100 for patient 596\n",
      "Identified 23 gaps for train set of 596\n",
      "Identified 2 gaps for val set of 596\n",
      "Identified 6 gaps for test set of 596\n"
     ]
    }
   ]
  },
  {
   "cell_type": "code",
   "source": [
    "# Patient ID\n",
    "dataset_2020[2][3]"
   ],
   "metadata": {
    "colab": {
     "base_uri": "https://localhost:8080/",
     "height": 35
    },
    "id": "3QriI8YgGXgx",
    "executionInfo": {
     "status": "ok",
     "timestamp": 1712318386506,
     "user_tz": -120,
     "elapsed": 317,
     "user": {
      "displayName": "Ladislav Floriš",
      "userId": "00923364794303765935"
     }
    },
    "outputId": "5d040e71-99eb-4f75-8dbc-46b9d5c2853c"
   },
   "execution_count": 18,
   "outputs": [
    {
     "output_type": "execute_result",
     "data": {
      "text/plain": [
       "'552'"
      ],
      "application/vnd.google.colaboratory.intrinsic+json": {
       "type": "string"
      }
     },
     "metadata": {},
     "execution_count": 18
    }
   ]
  },
  {
   "cell_type": "code",
   "source": [
    "patient_window = get_patient_window(dataset_2020[2][:-1], features, input_len // SAMPL_FREQ, 1, PH, drop_noisy=False, batch_size=256, min_max_scale=False)"
   ],
   "metadata": {
    "id": "8iH6mBcLGNgc",
    "executionInfo": {
     "status": "ok",
     "timestamp": 1712318388570,
     "user_tz": -120,
     "elapsed": 382,
     "user": {
      "displayName": "Ladislav Floriš",
      "userId": "00923364794303765935"
     }
    }
   },
   "execution_count": 19,
   "outputs": []
  },
  {
   "cell_type": "code",
   "source": [
    "lmu_model = tf.keras.models.load_model(os.path.join(root_path, \"lmu_2020_ph30min_1\"))"
   ],
   "metadata": {
    "id": "-KrRw2I3HHWv",
    "executionInfo": {
     "status": "ok",
     "timestamp": 1712318405980,
     "user_tz": -120,
     "elapsed": 9943,
     "user": {
      "displayName": "Ladislav Floriš",
      "userId": "00923364794303765935"
     }
    }
   },
   "execution_count": 20,
   "outputs": []
  },
  {
   "cell_type": "code",
   "execution_count": 40,
   "metadata": {
    "id": "--fn9Vr2fLp8",
    "executionInfo": {
     "status": "ok",
     "timestamp": 1712319629509,
     "user_tz": -120,
     "elapsed": 8105,
     "user": {
      "displayName": "Ladislav Floriš",
      "userId": "00923364794303765935"
     }
    }
   },
   "outputs": [],
   "source": [
    "all_predictions = []\n",
    "all_targets = []\n",
    "start_at = 70\n",
    "end_at = 214\n",
    "idx = 0\n",
    "for batch in patient_window.test:\n",
    "    if idx < start_at:\n",
    "       idx += 1\n",
    "       continue\n",
    "    if idx >= end_at:\n",
    "        break\n",
    "\n",
    "    inputs, targets = batch\n",
    "    targets = targets.numpy().flatten()\n",
    "    predictions = lmu_model.predict(inputs, verbose=0).flatten()\n",
    "\n",
    "    all_predictions.extend(predictions)\n",
    "    all_targets.extend(targets)\n",
    "\n",
    "    idx += 1"
   ]
  },
  {
   "cell_type": "code",
   "source": [
    "len(all_targets)"
   ],
   "metadata": {
    "colab": {
     "base_uri": "https://localhost:8080/"
    },
    "id": "kWz9NPPjKpre",
    "executionInfo": {
     "status": "ok",
     "timestamp": 1712319629967,
     "user_tz": -120,
     "elapsed": 478,
     "user": {
      "displayName": "Ladislav Floriš",
      "userId": "00923364794303765935"
     }
    },
    "outputId": "fa995a2b-83aa-446f-a77b-cb094c57c8f1"
   },
   "execution_count": 41,
   "outputs": [
    {
     "output_type": "execute_result",
     "data": {
      "text/plain": [
       "144"
      ]
     },
     "metadata": {},
     "execution_count": 41
    }
   ]
  },
  {
   "cell_type": "code",
   "source": [
    "time_steps = [i for i in range(0, len(all_targets)*5, 5)]\n",
    "\n",
    "# Plot input vs targets\n",
    "fig, ax = plt.subplots()\n",
    "ax.plot(time_steps, all_targets, label=\"Targets\", linestyle=\"dashed\")\n",
    "ax.plot(time_steps, all_predictions, label=\"Predictions\")\n",
    "ax.set(xlabel=\"Time [minutes]\", ylabel=\"Glucose [mg/dL]\")\n",
    "ax.legend()"
   ],
   "metadata": {
    "colab": {
     "base_uri": "https://localhost:8080/",
     "height": 466
    },
    "id": "Dfoz-vpuI-Lc",
    "executionInfo": {
     "status": "ok",
     "timestamp": 1712319633211,
     "user_tz": -120,
     "elapsed": 933,
     "user": {
      "displayName": "Ladislav Floriš",
      "userId": "00923364794303765935"
     }
    },
    "outputId": "efdce4c1-cd8e-4697-cfa1-2e715f15fabb"
   },
   "execution_count": 42,
   "outputs": [
    {
     "output_type": "execute_result",
     "data": {
      "text/plain": [
       "<matplotlib.legend.Legend at 0x7cc876c8f9d0>"
      ]
     },
     "metadata": {},
     "execution_count": 42
    },
    {
     "output_type": "display_data",
     "data": {
      "text/plain": [
       "<Figure size 640x480 with 1 Axes>"
      ],
      "image/png": "[encoded data removed]"
     },
     "metadata": {}
    }
   ]
  }
 ]
}
