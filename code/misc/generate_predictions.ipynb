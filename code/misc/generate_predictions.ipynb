{
 "nbformat": 4,
 "nbformat_minor": 0,
 "metadata": {
  "colab": {
   "provenance": []
  },
  "kernelspec": {
   "name": "python3",
   "display_name": "Python 3"
  },
  "language_info": {
   "name": "python"
  }
 },
 "cells": [
  {
   "cell_type": "code",
   "execution_count": 1,
   "metadata": {
    "id": "FNAjAPQcS2ec"
   },
   "outputs": [],
   "source": [
    "%load_ext autoreload\n",
    "%autoreload 2"
   ]
  },
  {
   "cell_type": "code",
   "source": [
    "import pandas as pd\n",
    "import os\n",
    "import tensorflow as tf\n",
    "from core.pre_processing import build_ohio_dataset, get_patient_window"
   ],
   "metadata": {
    "id": "4ui876QLS968"
   },
   "execution_count": 4,
   "outputs": []
  },
  {
   "cell_type": "code",
   "source": [
    "root_path = \"models\"\n",
    "store_to = \"preds\"\n",
    "\n",
    "ORIG_FREQ = 5\n",
    "SAMPL_FREQ = 5\n",
    "FREQ_CORRECTION = ORIG_FREQ // SAMPL_FREQ\n",
    "\n",
    "PATIENTS_2018 = [\"559\", \"563\", \"570\", \"575\", \"588\", \"591\"]\n",
    "PATIENTS_2020 = [\"540\", \"544\", \"552\", \"567\", \"584\", \"596\"]"
   ],
   "metadata": {
    "id": "stBauM4aTJkN"
   },
   "execution_count": 7,
   "outputs": []
  },
  {
   "cell_type": "code",
   "source": "features = [\"Time\", \"Glucose\", \"Rapid Insulin sub_tissue\", \"Carbohydrates gut\", \"finger_stick\"]",
   "metadata": {
    "id": "UtPEFQN8Uf5J"
   },
   "execution_count": 8,
   "outputs": []
  },
  {
   "cell_type": "code",
   "source": [
    "# Load dataset\n",
    "dataset_2020 = build_ohio_dataset(\"2020\")"
   ],
   "metadata": {
    "colab": {
     "base_uri": "https://localhost:8080/"
    },
    "id": "w3cJ4xvOTKju",
    "outputId": "8699e7d7-461f-4313-955c-368e368c63d9"
   },
   "execution_count": 15,
   "outputs": [
    {
     "output_type": "stream",
     "name": "stdout",
     "text": [
      "Using time to peak: 100 for patient 540\n",
      "Identified 22 gaps for train set of 540\n",
      "Identified 8 gaps for val set of 540\n",
      "Identified 8 gaps for test set of 540\n",
      "Using time to peak: 100 for patient 544\n",
      "Identified 15 gaps for train set of 544\n",
      "Identified 7 gaps for val set of 544\n",
      "Identified 6 gaps for test set of 544\n",
      "Using time to peak: 100 for patient 552\n",
      "Identified 34 gaps for train set of 552\n",
      "Identified 10 gaps for val set of 552\n",
      "Identified 10 gaps for test set of 552\n",
      "Empty carbs\n",
      "Using time to peak: 100 for patient 567\n",
      "Identified 46 gaps for train set of 567\n",
      "Identified 10 gaps for val set of 567\n",
      "Identified 11 gaps for test set of 567\n",
      "Using time to peak: 100 for patient 584\n",
      "Identified 45 gaps for train set of 584\n",
      "Identified 14 gaps for val set of 584\n",
      "Identified 15 gaps for test set of 584\n",
      "Using time to peak: 100 for patient 596\n",
      "Identified 23 gaps for train set of 596\n",
      "Identified 2 gaps for val set of 596\n",
      "Identified 6 gaps for test set of 596\n"
     ]
    }
   ]
  },
  {
   "cell_type": "code",
   "source": [
    "# Load dataset\n",
    "dataset_2018 = build_ohio_dataset(\"2018\")"
   ],
   "metadata": {
    "colab": {
     "base_uri": "https://localhost:8080/"
    },
    "id": "tbSNc_OhQcpL",
    "outputId": "7a0906c4-de51-4c0f-d5a3-f7a7de737e86"
   },
   "execution_count": 32,
   "outputs": [
    {
     "output_type": "stream",
     "name": "stdout",
     "text": [
      "Using time to peak: 100 for patient 559\n",
      "Identified 35 gaps for train set of 559\n",
      "Identified 7 gaps for val set of 559\n",
      "Identified 11 gaps for test set of 559\n",
      "Using time to peak: 100 for patient 563\n",
      "Identified 15 gaps for train set of 563\n",
      "Identified 6 gaps for val set of 563\n",
      "Identified 3 gaps for test set of 563\n",
      "Using time to peak: 100 for patient 570\n",
      "Identified 15 gaps for train set of 570\n",
      "Identified 5 gaps for val set of 570\n",
      "Identified 9 gaps for test set of 570\n",
      "Using time to peak: 100 for patient 575\n",
      "Identified 56 gaps for train set of 575\n",
      "Identified 16 gaps for val set of 575\n",
      "Identified 10 gaps for test set of 575\n",
      "Using time to peak: 100 for patient 588\n",
      "Identified 9 gaps for train set of 588\n",
      "Identified 1 gaps for val set of 588\n",
      "Identified 2 gaps for test set of 588\n",
      "Using time to peak: 100 for patient 591\n",
      "Identified 23 gaps for train set of 591\n",
      "Identified 3 gaps for val set of 591\n",
      "Identified 4 gaps for test set of 591\n"
     ]
    }
   ]
  },
  {
   "cell_type": "code",
   "source": [
    "def generate_predictions(ph, dataset, batch_size, input_len, best_model_name):\n",
    "    patient_windows = {}\n",
    "    for p_tr_df, p_v_df, p_tst_df, patient_id in dataset:\n",
    "        patient_windows[patient_id] = get_patient_window(\n",
    "            (p_tr_df, p_v_df, p_tst_df),\n",
    "            features,\n",
    "            input_len // SAMPL_FREQ,\n",
    "            1,\n",
    "            ph,\n",
    "            drop_noisy=False,\n",
    "            batch_size=batch_size,\n",
    "            min_max_scale=False\n",
    "        )\n",
    "\n",
    "    best_model = tf.keras.models.load_model(os.path.join(root_path, best_model_name))\n",
    "    all_predictions = []\n",
    "    all_targets = []\n",
    "    patient_ids = []\n",
    "    for patient_id, patient_w in patient_windows.items():\n",
    "        print(f\"Evaluating {patient_id}\")\n",
    "        for batch in patient_w.test:\n",
    "            inputs, targets = batch\n",
    "            targets = targets.numpy().flatten()\n",
    "            predictions = best_model.predict(inputs, verbose=0).flatten()\n",
    "\n",
    "            all_predictions.extend(predictions)\n",
    "            all_targets.extend(targets)\n",
    "            patient_ids.extend([patient_id for _ in range(len(targets))])\n",
    "    return patient_ids, all_targets, all_predictions"
   ],
   "metadata": {
    "id": "RPI3rHqRAlz1"
   },
   "execution_count": 18,
   "outputs": []
  },
  {
   "metadata": {},
   "cell_type": "markdown",
   "source": "## 2020 30min predictions"
  },
  {
   "cell_type": "code",
   "source": [
    "patient_ids, all_targets, all_predictions = generate_predictions(6, dataset_2020, 256, 30, \"lmu_2020_ph30min_1\")"
   ],
   "metadata": {
    "colab": {
     "base_uri": "https://localhost:8080/"
    },
    "id": "-X6XJVCBBe5J",
    "outputId": "e5d0e1bc-4e41-437a-829f-6161ac6f04ec"
   },
   "execution_count": 19,
   "outputs": [
    {
     "output_type": "stream",
     "name": "stdout",
     "text": [
      "Evaluating 540\n",
      "all rolling: 3066\n",
      "2881 size before reduction\n",
      "2881 size after reduction\n",
      "17 windows with too many nans\n",
      "157 windows with empty labels\n",
      "Evaluating 544\n",
      "all rolling: 3136\n",
      "2695 size before reduction\n",
      "2695 size after reduction\n",
      "19 windows with too many nans\n",
      "411 windows with empty labels\n",
      "Evaluating 552\n",
      "all rolling: 3988\n",
      "2332 size before reduction\n",
      "2332 size after reduction\n",
      "32 windows with too many nans\n",
      "1613 windows with empty labels\n",
      "Evaluating 567\n",
      "all rolling: 2972\n",
      "2349 size before reduction\n",
      "2349 size after reduction\n",
      "43 windows with too many nans\n",
      "569 windows with empty labels\n",
      "Evaluating 584\n",
      "all rolling: 2995\n",
      "2645 size before reduction\n",
      "2645 size after reduction\n",
      "27 windows with too many nans\n",
      "312 windows with empty labels\n",
      "Evaluating 596\n",
      "all rolling: 3003\n",
      "2712 size before reduction\n",
      "2712 size after reduction\n",
      "24 windows with too many nans\n",
      "256 windows with empty labels\n"
     ]
    }
   ]
  },
  {
   "cell_type": "code",
   "source": [
    "df_2020_30min = pd.DataFrame({\"patient_id\": patient_ids, \"target\": all_targets, \"prediction\": all_predictions})"
   ],
   "metadata": {
    "id": "GLXDI2OzB127"
   },
   "execution_count": 20,
   "outputs": []
  },
  {
   "cell_type": "code",
   "source": "df_2020_30min.to_csv(os.path.join(store_to, \"2020_30min_preds.csv\"))",
   "metadata": {
    "id": "LSPnpHrZK1oh"
   },
   "execution_count": 30,
   "outputs": []
  },
  {
   "metadata": {},
   "cell_type": "markdown",
   "source": "## 2020 60min predictions"
  },
  {
   "cell_type": "code",
   "source": [
    "patient_ids_2020_60min, all_targets_2020_60min, all_predictions_2020_60min = generate_predictions(12, dataset_2020, 256, 30, \"lmu_2020_ph60min_1\")"
   ],
   "metadata": {
    "colab": {
     "base_uri": "https://localhost:8080/"
    },
    "id": "ooOBm7BkLHs0",
    "outputId": "6f189dbb-f72f-4e1a-e70f-94243e03caf1"
   },
   "execution_count": 31,
   "outputs": [
    {
     "output_type": "stream",
     "name": "stdout",
     "text": [
      "Evaluating 540\n",
      "all rolling: 3066\n",
      "2869 size before reduction\n",
      "2869 size after reduction\n",
      "23 windows with too many nans\n",
      "157 windows with empty labels\n",
      "Evaluating 544\n",
      "all rolling: 3136\n",
      "2671 size before reduction\n",
      "2671 size after reduction\n",
      "37 windows with too many nans\n",
      "411 windows with empty labels\n",
      "Evaluating 552\n",
      "all rolling: 3988\n",
      "2296 size before reduction\n",
      "2296 size after reduction\n",
      "62 windows with too many nans\n",
      "1613 windows with empty labels\n",
      "Evaluating 567\n",
      "all rolling: 2972\n",
      "2300 size before reduction\n",
      "2300 size after reduction\n",
      "86 windows with too many nans\n",
      "569 windows with empty labels\n",
      "Evaluating 584\n",
      "all rolling: 2995\n",
      "2624 size before reduction\n",
      "2624 size after reduction\n",
      "42 windows with too many nans\n",
      "312 windows with empty labels\n",
      "Evaluating 596\n",
      "all rolling: 3003\n",
      "2687 size before reduction\n",
      "2687 size after reduction\n",
      "43 windows with too many nans\n",
      "256 windows with empty labels\n"
     ]
    }
   ]
  },
  {
   "cell_type": "code",
   "source": [
    "df_2020_60min = pd.DataFrame({\"patient_id\": patient_ids_2020_60min, \"target\": all_targets_2020_60min, \"prediction\": all_predictions_2020_60min})"
   ],
   "metadata": {
    "id": "EXaGqlPJL1BK"
   },
   "execution_count": 33,
   "outputs": []
  },
  {
   "cell_type": "code",
   "source": "df_2020_60min.to_csv(os.path.join(store_to, \"2020_60min_preds.csv\"))",
   "metadata": {
    "id": "HNIRhYOtPvT3"
   },
   "execution_count": 35,
   "outputs": []
  },
  {
   "metadata": {},
   "cell_type": "markdown",
   "source": "## 2018 30min predictions"
  },
  {
   "cell_type": "code",
   "source": [
    "patient_ids_2018_30min, all_targets_2018_30min, all_predictions_2018_30min = generate_predictions(6, dataset_2018, 256, 30, \"lmu_2018_ph30min_0\")"
   ],
   "metadata": {
    "colab": {
     "base_uri": "https://localhost:8080/"
    },
    "id": "xwYnuXAZPvFT",
    "outputId": "747bafdf-6896-47d3-f0c0-08d6120bc94b"
   },
   "execution_count": 36,
   "outputs": [
    {
     "output_type": "stream",
     "name": "stdout",
     "text": [
      "Evaluating 559\n",
      "all rolling: 2876\n",
      "2482 size before reduction\n",
      "2482 size after reduction\n",
      "34 windows with too many nans\n",
      "349 windows with empty labels\n",
      "Evaluating 563\n",
      "all rolling: 2814\n",
      "2559 size before reduction\n",
      "2559 size after reduction\n",
      "10 windows with too many nans\n",
      "234 windows with empty labels\n",
      "Evaluating 570\n",
      "all rolling: 2880\n",
      "2727 size before reduction\n",
      "2727 size after reduction\n",
      "20 windows with too many nans\n",
      "122 windows with empty labels\n",
      "Evaluating 575\n",
      "all rolling: 2745\n",
      "2575 size before reduction\n",
      "2575 size after reduction\n",
      "15 windows with too many nans\n",
      "144 windows with empty labels\n",
      "Evaluating 588\n",
      "all rolling: 2880\n",
      "2777 size before reduction\n",
      "2777 size after reduction\n",
      "8 windows with too many nans\n",
      "84 windows with empty labels\n",
      "Evaluating 591\n",
      "all rolling: 2847\n",
      "2743 size before reduction\n",
      "2743 size after reduction\n",
      "10 windows with too many nans\n",
      "83 windows with empty labels\n"
     ]
    }
   ]
  },
  {
   "cell_type": "code",
   "source": [
    "df_2018_30min = pd.DataFrame({\"patient_id\": patient_ids_2018_30min, \"target\": all_targets_2018_30min, \"prediction\": all_predictions_2018_30min})"
   ],
   "metadata": {
    "id": "qEMzngywUror"
   },
   "execution_count": 37,
   "outputs": []
  },
  {
   "cell_type": "code",
   "source": "df_2018_30min.to_csv(os.path.join(store_to, \"2018_30min_preds.csv\"))",
   "metadata": {
    "id": "3hkIPPPRcQZV"
   },
   "execution_count": 39,
   "outputs": []
  },
  {
   "metadata": {},
   "cell_type": "markdown",
   "source": "## 2018 60min predictions"
  },
  {
   "cell_type": "code",
   "source": [
    "patient_ids_2018_60min, all_targets_2018_60min, all_predictions_2018_60min = generate_predictions(12, dataset_2018, 256, 30, \"lmu_2018_ph60min_3\")"
   ],
   "metadata": {
    "colab": {
     "base_uri": "https://localhost:8080/"
    },
    "id": "sVkNzOHjcfjk",
    "outputId": "208873a2-2d4f-4b27-bd3c-e48088eb7be4"
   },
   "execution_count": 40,
   "outputs": [
    {
     "output_type": "stream",
     "name": "stdout",
     "text": [
      "Evaluating 559\n",
      "all rolling: 2876\n",
      "2442 size before reduction\n",
      "2442 size after reduction\n",
      "68 windows with too many nans\n",
      "349 windows with empty labels\n",
      "Evaluating 563\n",
      "all rolling: 2814\n",
      "2550 size before reduction\n",
      "2550 size after reduction\n",
      "13 windows with too many nans\n",
      "234 windows with empty labels\n",
      "Evaluating 570\n",
      "all rolling: 2880\n",
      "2703 size before reduction\n",
      "2703 size after reduction\n",
      "38 windows with too many nans\n",
      "122 windows with empty labels\n",
      "Evaluating 575\n",
      "all rolling: 2745\n",
      "2554 size before reduction\n",
      "2554 size after reduction\n",
      "30 windows with too many nans\n",
      "144 windows with empty labels\n",
      "Evaluating 588\n",
      "all rolling: 2880\n",
      "2762 size before reduction\n",
      "2762 size after reduction\n",
      "17 windows with too many nans\n",
      "84 windows with empty labels\n",
      "Evaluating 591\n",
      "all rolling: 2847\n",
      "2725 size before reduction\n",
      "2725 size after reduction\n",
      "22 windows with too many nans\n",
      "83 windows with empty labels\n"
     ]
    }
   ]
  },
  {
   "cell_type": "code",
   "source": [
    "df_2018_60min = pd.DataFrame({\"patient_id\": patient_ids_2018_60min, \"target\": all_targets_2018_60min, \"prediction\": all_predictions_2018_60min})"
   ],
   "metadata": {
    "id": "WS9TtQTac7O-"
   },
   "execution_count": 41,
   "outputs": []
  },
  {
   "cell_type": "code",
   "source": "df_2018_60min.to_csv(os.path.join(store_to, \"2018_60min_preds.csv\"))",
   "metadata": {
    "id": "ED1t2v_2ikLt"
   },
   "execution_count": 43,
   "outputs": []
  }
 ]
}
