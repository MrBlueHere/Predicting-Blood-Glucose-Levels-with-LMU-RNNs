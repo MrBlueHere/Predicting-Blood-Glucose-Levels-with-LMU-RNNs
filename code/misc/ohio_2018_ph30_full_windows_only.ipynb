{
 "nbformat": 4,
 "nbformat_minor": 0,
 "metadata": {
  "colab": {
   "provenance": [],
   "gpuType": "T4",
   "authorship_tag": "ABX9TyPk2Y5/O22ccWcC2/JMtJVE"
  },
  "kernelspec": {
   "name": "python3",
   "display_name": "Python 3"
  },
  "language_info": {
   "name": "python"
  },
  "accelerator": "GPU"
 },
 "cells": [
  {
   "cell_type": "code",
   "execution_count": 1,
   "metadata": {
    "id": "-TTxujD67_Nk",
    "executionInfo": {
     "status": "ok",
     "timestamp": 1712326977305,
     "user_tz": -120,
     "elapsed": 16,
     "user": {
      "displayName": "Ladislav Floriš",
      "userId": "00923364794303765935"
     }
    }
   },
   "outputs": [],
   "source": [
    "%load_ext autoreload\n",
    "%autoreload 2"
   ]
  },
  {
   "metadata": {},
   "cell_type": "markdown",
   "source": "# This notebook uses only full input windows for training, validation and testing on the 2018 editions of OhioT1DM dataset (no interpolation is applied when creating the input-target pairs)"
  },
  {
   "cell_type": "markdown",
   "source": [
    "## Imports, top level definitions and data loading"
   ],
   "metadata": {
    "id": "ULpExEKj8LKr"
   }
  },
  {
   "cell_type": "code",
   "source": [
    "import keras_lmu\n",
    "import pandas as pd\n",
    "import os\n",
    "import tensorflow as tf\n",
    "\n",
    "from core.pre_processing import build_ohio_dataset, build_windows, get_patient_window\n",
    "from core.utils import compile_and_fit, plot_loss"
   ],
   "metadata": {
    "id": "-jPhN8vq8FGm",
    "executionInfo": {
     "status": "ok",
     "timestamp": 1712327050977,
     "user_tz": -120,
     "elapsed": 1039,
     "user": {
      "displayName": "Ladislav Floriš",
      "userId": "00923364794303765935"
     }
    }
   },
   "execution_count": 6,
   "outputs": []
  },
  {
   "cell_type": "code",
   "source": [
    "SAMPL_FREQ = 5\n",
    "\n",
    "PATIENTS_2018 = [\"559\", \"563\", \"570\", \"575\", \"588\", \"591\"]\n",
    "PATIENTS_2020 = [\"540\", \"544\", \"552\", \"567\", \"584\", \"596\"]\n",
    "\n",
    "model_name = \"lmu_2018_ph30min_full_wins\""
   ],
   "metadata": {
    "id": "YoODO_n88Q7Q",
    "executionInfo": {
     "status": "ok",
     "timestamp": 1712327515169,
     "user_tz": -120,
     "elapsed": 5,
     "user": {
      "displayName": "Ladislav Floriš",
      "userId": "00923364794303765935"
     }
    }
   },
   "execution_count": 14,
   "outputs": []
  },
  {
   "cell_type": "code",
   "source": [
    "# Load dataset\n",
    "dataset_2018 = build_ohio_dataset(\"2018\")"
   ],
   "metadata": {
    "colab": {
     "base_uri": "https://localhost:8080/"
    },
    "id": "sNj0_6Me8q6A",
    "executionInfo": {
     "status": "ok",
     "timestamp": 1712327515168,
     "user_tz": -120,
     "elapsed": 134204,
     "user": {
      "displayName": "Ladislav Floriš",
      "userId": "00923364794303765935"
     }
    },
    "outputId": "ac3241db-1363-4c57-c703-01bd46c73961"
   },
   "execution_count": 13,
   "outputs": [
    {
     "output_type": "stream",
     "name": "stdout",
     "text": [
      "Using time to peak: 100 for patient 559\n",
      "Identified 35 gaps for train set of 559\n",
      "Identified 7 gaps for val set of 559\n",
      "Identified 11 gaps for test set of 559\n",
      "Using time to peak: 100 for patient 563\n",
      "Identified 15 gaps for train set of 563\n",
      "Identified 6 gaps for val set of 563\n",
      "Identified 3 gaps for test set of 563\n",
      "Using time to peak: 100 for patient 570\n",
      "Identified 15 gaps for train set of 570\n",
      "Identified 5 gaps for val set of 570\n",
      "Identified 9 gaps for test set of 570\n",
      "Using time to peak: 100 for patient 575\n",
      "Identified 56 gaps for train set of 575\n",
      "Identified 16 gaps for val set of 575\n",
      "Identified 10 gaps for test set of 575\n",
      "Using time to peak: 100 for patient 588\n",
      "Identified 9 gaps for train set of 588\n",
      "Identified 1 gaps for val set of 588\n",
      "Identified 2 gaps for test set of 588\n",
      "Using time to peak: 100 for patient 591\n",
      "Identified 23 gaps for train set of 591\n",
      "Identified 3 gaps for val set of 591\n",
      "Identified 4 gaps for test set of 591\n"
     ]
    }
   ]
  },
  {
   "cell_type": "markdown",
   "source": [
    "## Setup params for the model and input"
   ],
   "metadata": {
    "id": "UpU2J9PqtHav"
   }
  },
  {
   "cell_type": "code",
   "source": [
    "# Path where to store the trained models\n",
    "root_path = \"models\"\n",
    "\n",
    "# 6 steps -> 30 minutes prediction horizon\n",
    "PH = 6\n",
    "batch_size = 256\n",
    "\n",
    "# 30 minutes of input\n",
    "input_len = 30\n",
    "\n",
    "features = [\"Time\", \"Glucose\", \"Rapid Insulin sub_tissue\", \"Carbohydrates gut\", \"finger_stick\"]"
   ],
   "metadata": {
    "id": "RIG3AKehtLei",
    "executionInfo": {
     "status": "ok",
     "timestamp": 1712327539086,
     "user_tz": -120,
     "elapsed": 537,
     "user": {
      "displayName": "Ladislav Floriš",
      "userId": "00923364794303765935"
     }
    }
   },
   "execution_count": 15,
   "outputs": []
  },
  {
   "cell_type": "markdown",
   "source": [
    "## Create pre-processed input-target pairs for the model\n",
    "Additionally create input-target pairs per each patient so that we can evaluate the performance individually per patient"
   ],
   "metadata": {
    "id": "PgFdANutt1E_"
   }
  },
  {
   "cell_type": "code",
   "source": [
    "w_2018, _ = build_windows(dataset_2018, features, input_len // SAMPL_FREQ, 1, PH, drop_noisy=False, batch_size=batch_size, min_max_scale=False, interpolate=False)"
   ],
   "metadata": {
    "id": "z3KFXNT0r9HG",
    "executionInfo": {
     "status": "ok",
     "timestamp": 1712327543329,
     "user_tz": -120,
     "elapsed": 782,
     "user": {
      "displayName": "Ladislav Floriš",
      "userId": "00923364794303765935"
     }
    }
   },
   "execution_count": 16,
   "outputs": []
  },
  {
   "cell_type": "code",
   "source": [
    "patient_windows_2018 = {}\n",
    "for p_tr_df, p_v_df, p_tst_df, patient_id in dataset_2018:\n",
    "    patient_windows_2018[patient_id] = get_patient_window(\n",
    "        (p_tr_df, p_v_df, p_tst_df),\n",
    "        features,\n",
    "        input_len // SAMPL_FREQ,\n",
    "        1,\n",
    "        PH,\n",
    "        drop_noisy=False,\n",
    "        batch_size=batch_size,\n",
    "        min_max_scale=False,\n",
    "        interpolate=False,\n",
    "    )"
   ],
   "metadata": {
    "id": "crCuOCWPqJs4",
    "executionInfo": {
     "status": "ok",
     "timestamp": 1712327543839,
     "user_tz": -120,
     "elapsed": 5,
     "user": {
      "displayName": "Ladislav Floriš",
      "userId": "00923364794303765935"
     }
    }
   },
   "execution_count": 17,
   "outputs": []
  },
  {
   "cell_type": "markdown",
   "source": [
    "## Train and evaluate models"
   ],
   "metadata": {
    "id": "KoKkSox2pnXX"
   }
  },
  {
   "cell_type": "code",
   "source": [
    "def train_model(patient_windows, model_name: str, train_window):\n",
    "    lmu_layer = keras_lmu.LMU(\n",
    "        memory_d=4,\n",
    "        order=52,\n",
    "        theta=input_len // SAMPL_FREQ,\n",
    "        hidden_to_memory=True,\n",
    "        memory_to_memory=False,\n",
    "        input_to_hidden=False,\n",
    "        hidden_cell=tf.keras.layers.LSTMCell(units=72),\n",
    "        return_sequences=False,\n",
    "        dropout=0.1,\n",
    "        recurrent_dropout=0,\n",
    "    )\n",
    "    inputs = tf.keras.Input((input_len // SAMPL_FREQ, 4))\n",
    "    lmus = lmu_layer(inputs)\n",
    "    outputs = tf.keras.layers.Dense(1)(lmus)\n",
    "    output_plus_input = tf.keras.layers.Add()([outputs, inputs[:, -1, 0]])\n",
    "\n",
    "    model = tf.keras.Model(inputs=inputs, outputs=output_plus_input)\n",
    "    print(model.summary())\n",
    "\n",
    "    history = compile_and_fit(model, train_window, max_epochs=300, learning_rate=10**-3, patience=35, store_model=model_name)\n",
    "    plot_loss(history, \"Loss\", False)\n",
    "\n",
    "    best_model = tf.keras.models.load_model(os.path.join(root_path, model_name))\n",
    "\n",
    "    results_val = []\n",
    "    results_test = []\n",
    "\n",
    "    for patient_id, patient_w in patient_windows.items():\n",
    "        print(\"Evaluating on patient_id:\", patient_id)\n",
    "        val_p = best_model.evaluate(patient_w.val, verbose=0)[1]\n",
    "        test_p = best_model.evaluate(patient_w.test, verbose=0)[1]\n",
    "        results_val.append((model_name, patient_id, val_p))\n",
    "        results_test.append((model_name, patient_id, test_p))\n",
    "    return results_val, results_test"
   ],
   "metadata": {
    "id": "NBtVge3yphAW",
    "executionInfo": {
     "status": "ok",
     "timestamp": 1712327548403,
     "user_tz": -120,
     "elapsed": 5,
     "user": {
      "displayName": "Ladislav Floriš",
      "userId": "00923364794303765935"
     }
    }
   },
   "execution_count": 18,
   "outputs": []
  },
  {
   "cell_type": "code",
   "source": [
    "val_errs, test_errs = train_model(patient_windows_2018, f\"{model_name}_0\", w_2018)"
   ],
   "metadata": {
    "colab": {
     "base_uri": "https://localhost:8080/",
     "height": 1000
    },
    "id": "Ne_Khy3tqVpw",
    "executionInfo": {
     "status": "ok",
     "timestamp": 1712328531982,
     "user_tz": -120,
     "elapsed": 977250,
     "user": {
      "displayName": "Ladislav Floriš",
      "userId": "00923364794303765935"
     }
    },
    "outputId": "cd908a8c-6fd9-4282-c28f-eaf5a3ee51df"
   },
   "execution_count": 19,
   "outputs": [
    {
     "output_type": "stream",
     "name": "stdout",
     "text": [
      "Model: \"model\"\n",
      "__________________________________________________________________________________________________\n",
      " Layer (type)                Output Shape                 Param #   Connected to                  \n",
      "==================================================================================================\n",
      " input_1 (InputLayer)        [(None, 6, 4)]               0         []                            \n",
      "                                                                                                  \n",
      " lmu (LMU)                   (None, 72)                   81232     ['input_1[0][0]']             \n",
      "                                                                                                  \n",
      " dense (Dense)               (None, 1)                    73        ['lmu[0][0]']                 \n",
      "                                                                                                  \n",
      " tf.__operators__.getitem (  (None,)                      0         ['input_1[0][0]']             \n",
      " SlicingOpLambda)                                                                                 \n",
      "                                                                                                  \n",
      " add (Add)                   (None, 1)                    0         ['dense[0][0]',               \n",
      "                                                                     'tf.__operators__.getitem[0][\n",
      "                                                                    0]']                          \n",
      "                                                                                                  \n",
      "==================================================================================================\n",
      "Total params: 81305 (317.60 KB)\n",
      "Trainable params: 81305 (317.60 KB)\n",
      "Non-trainable params: 0 (0.00 Byte)\n",
      "__________________________________________________________________________________________________\n",
      "None\n",
      "all rolling: 9676\n",
      "8555 size before reduction\n",
      "8555 size after reduction\n",
      "322 windows with too many nans\n",
      "788 windows with empty labels\n",
      "all rolling: 10505\n",
      "9741 size before reduction\n",
      "9741 size after reduction\n",
      "237 windows with too many nans\n",
      "516 windows with empty labels\n",
      "all rolling: 9446\n",
      "8776 size before reduction\n",
      "8776 size after reduction\n",
      "164 windows with too many nans\n",
      "495 windows with empty labels\n",
      "all rolling: 10483\n",
      "9633 size before reduction\n",
      "9633 size after reduction\n",
      "192 windows with too many nans\n",
      "647 windows with empty labels\n",
      "all rolling: 10598\n",
      "10023 size before reduction\n",
      "10023 size after reduction\n",
      "188 windows with too many nans\n",
      "376 windows with empty labels\n",
      "all rolling: 10368\n",
      "8395 size before reduction\n",
      "8395 size after reduction\n",
      "443 windows with too many nans\n",
      "1519 windows with empty labels\n",
      "all rolling: 2420\n",
      "2234 size before reduction\n",
      "2234 size after reduction\n",
      "55 windows with too many nans\n",
      "120 windows with empty labels\n",
      "all rolling: 2627\n",
      "2440 size before reduction\n",
      "2440 size after reduction\n",
      "74 windows with too many nans\n",
      "102 windows with empty labels\n",
      "all rolling: 2362\n",
      "2163 size before reduction\n",
      "2163 size after reduction\n",
      "55 windows with too many nans\n",
      "133 windows with empty labels\n",
      "all rolling: 2621\n",
      "2383 size before reduction\n",
      "2383 size after reduction\n",
      "72 windows with too many nans\n",
      "155 windows with empty labels\n",
      "all rolling: 2650\n",
      "2606 size before reduction\n",
      "2606 size after reduction\n",
      "18 windows with too many nans\n",
      "15 windows with empty labels\n",
      "all rolling: 2592\n",
      "2508 size before reduction\n",
      "2508 size after reduction\n",
      "22 windows with too many nans\n",
      "51 windows with empty labels\n",
      "Epoch 1/300\n",
      "216/216 [==============================] - 11s 30ms/step - loss: 553.8903 - root_mean_squared_error: 23.5349 - val_loss: 563.0392 - val_root_mean_squared_error: 23.7284 - lr: 0.0010\n",
      "Epoch 2/300\n",
      "216/216 [==============================] - 7s 32ms/step - loss: 506.6641 - root_mean_squared_error: 22.5092 - val_loss: 532.7082 - val_root_mean_squared_error: 23.0805 - lr: 0.0010\n",
      "Epoch 3/300\n",
      "216/216 [==============================] - 6s 27ms/step - loss: 489.3882 - root_mean_squared_error: 22.1221 - val_loss: 515.5554 - val_root_mean_squared_error: 22.7058 - lr: 0.0010\n",
      "Epoch 4/300\n",
      "216/216 [==============================] - 7s 34ms/step - loss: 479.4665 - root_mean_squared_error: 21.8967 - val_loss: 506.7947 - val_root_mean_squared_error: 22.5121 - lr: 0.0010\n",
      "Epoch 5/300\n",
      "216/216 [==============================] - 6s 27ms/step - loss: 472.4472 - root_mean_squared_error: 21.7358 - val_loss: 502.4523 - val_root_mean_squared_error: 22.4154 - lr: 0.0010\n",
      "Epoch 6/300\n",
      "216/216 [==============================] - 8s 38ms/step - loss: 464.6310 - root_mean_squared_error: 21.5553 - val_loss: 495.2183 - val_root_mean_squared_error: 22.2535 - lr: 0.0010\n",
      "Epoch 7/300\n",
      "216/216 [==============================] - 6s 26ms/step - loss: 462.4173 - root_mean_squared_error: 21.5039 - val_loss: 496.6900 - val_root_mean_squared_error: 22.2865 - lr: 0.0010\n",
      "Epoch 8/300\n",
      "216/216 [==============================] - 4s 19ms/step - loss: 455.7747 - root_mean_squared_error: 21.3489 - val_loss: 498.8266 - val_root_mean_squared_error: 22.3344 - lr: 0.0010\n",
      "Epoch 9/300\n",
      "216/216 [==============================] - 7s 30ms/step - loss: 451.1436 - root_mean_squared_error: 21.2401 - val_loss: 493.2213 - val_root_mean_squared_error: 22.2086 - lr: 0.0010\n",
      "Epoch 10/300\n",
      "216/216 [==============================] - 6s 26ms/step - loss: 448.6453 - root_mean_squared_error: 21.1812 - val_loss: 491.5717 - val_root_mean_squared_error: 22.1714 - lr: 0.0010\n",
      "Epoch 11/300\n",
      "216/216 [==============================] - 6s 26ms/step - loss: 446.2278 - root_mean_squared_error: 21.1241 - val_loss: 496.1991 - val_root_mean_squared_error: 22.2755 - lr: 0.0010\n",
      "Epoch 12/300\n",
      "216/216 [==============================] - 6s 30ms/step - loss: 445.3844 - root_mean_squared_error: 21.1041 - val_loss: 484.5434 - val_root_mean_squared_error: 22.0123 - lr: 0.0010\n",
      "Epoch 13/300\n",
      "216/216 [==============================] - 6s 29ms/step - loss: 443.3337 - root_mean_squared_error: 21.0555 - val_loss: 484.4863 - val_root_mean_squared_error: 22.0110 - lr: 0.0010\n",
      "Epoch 14/300\n",
      "216/216 [==============================] - 6s 26ms/step - loss: 441.6436 - root_mean_squared_error: 21.0153 - val_loss: 484.9083 - val_root_mean_squared_error: 22.0206 - lr: 0.0010\n",
      "Epoch 15/300\n",
      "216/216 [==============================] - 4s 18ms/step - loss: 439.6636 - root_mean_squared_error: 20.9682 - val_loss: 486.2691 - val_root_mean_squared_error: 22.0515 - lr: 0.0010\n",
      "Epoch 16/300\n",
      "216/216 [==============================] - 4s 18ms/step - loss: 438.3495 - root_mean_squared_error: 20.9368 - val_loss: 485.7151 - val_root_mean_squared_error: 22.0389 - lr: 0.0010\n",
      "Epoch 17/300\n",
      "216/216 [==============================] - 7s 34ms/step - loss: 438.6841 - root_mean_squared_error: 20.9448 - val_loss: 483.0531 - val_root_mean_squared_error: 21.9785 - lr: 0.0010\n",
      "Epoch 18/300\n",
      "216/216 [==============================] - 6s 28ms/step - loss: 437.7641 - root_mean_squared_error: 20.9228 - val_loss: 482.4803 - val_root_mean_squared_error: 21.9654 - lr: 0.0010\n",
      "Epoch 19/300\n",
      "216/216 [==============================] - 6s 28ms/step - loss: 434.0456 - root_mean_squared_error: 20.8338 - val_loss: 479.9202 - val_root_mean_squared_error: 21.9071 - lr: 0.0010\n",
      "Epoch 20/300\n",
      "216/216 [==============================] - 4s 18ms/step - loss: 435.4045 - root_mean_squared_error: 20.8663 - val_loss: 482.1245 - val_root_mean_squared_error: 21.9573 - lr: 0.0010\n",
      "Epoch 21/300\n",
      "216/216 [==============================] - 4s 18ms/step - loss: 432.3158 - root_mean_squared_error: 20.7922 - val_loss: 483.4800 - val_root_mean_squared_error: 21.9882 - lr: 0.0010\n",
      "Epoch 22/300\n",
      "216/216 [==============================] - 8s 38ms/step - loss: 431.2283 - root_mean_squared_error: 20.7660 - val_loss: 477.8590 - val_root_mean_squared_error: 21.8600 - lr: 0.0010\n",
      "Epoch 23/300\n",
      "216/216 [==============================] - 7s 31ms/step - loss: 429.3132 - root_mean_squared_error: 20.7199 - val_loss: 476.1123 - val_root_mean_squared_error: 21.8200 - lr: 0.0010\n",
      "Epoch 24/300\n",
      "216/216 [==============================] - 4s 19ms/step - loss: 429.0051 - root_mean_squared_error: 20.7124 - val_loss: 479.1730 - val_root_mean_squared_error: 21.8900 - lr: 0.0010\n",
      "Epoch 25/300\n",
      "216/216 [==============================] - 4s 18ms/step - loss: 429.1726 - root_mean_squared_error: 20.7165 - val_loss: 481.9871 - val_root_mean_squared_error: 21.9542 - lr: 0.0010\n",
      "Epoch 26/300\n",
      "216/216 [==============================] - 5s 23ms/step - loss: 427.3330 - root_mean_squared_error: 20.6720 - val_loss: 479.6072 - val_root_mean_squared_error: 21.8999 - lr: 0.0010\n",
      "Epoch 27/300\n",
      "216/216 [==============================] - 6s 29ms/step - loss: 428.1694 - root_mean_squared_error: 20.6923 - val_loss: 475.5538 - val_root_mean_squared_error: 21.8072 - lr: 0.0010\n",
      "Epoch 28/300\n",
      "216/216 [==============================] - 4s 18ms/step - loss: 425.1667 - root_mean_squared_error: 20.6196 - val_loss: 476.1009 - val_root_mean_squared_error: 21.8197 - lr: 0.0010\n",
      "Epoch 29/300\n",
      "216/216 [==============================] - 7s 32ms/step - loss: 423.6620 - root_mean_squared_error: 20.5830 - val_loss: 474.9839 - val_root_mean_squared_error: 21.7941 - lr: 0.0010\n",
      "Epoch 30/300\n",
      "216/216 [==============================] - 4s 18ms/step - loss: 423.5483 - root_mean_squared_error: 20.5803 - val_loss: 476.0229 - val_root_mean_squared_error: 21.8179 - lr: 0.0010\n",
      "Epoch 31/300\n",
      "216/216 [==============================] - 6s 26ms/step - loss: 422.8561 - root_mean_squared_error: 20.5635 - val_loss: 477.3756 - val_root_mean_squared_error: 21.8489 - lr: 0.0010\n",
      "Epoch 32/300\n",
      "216/216 [==============================] - 7s 32ms/step - loss: 420.4589 - root_mean_squared_error: 20.5051 - val_loss: 473.5600 - val_root_mean_squared_error: 21.7614 - lr: 0.0010\n",
      "Epoch 33/300\n",
      "216/216 [==============================] - 4s 18ms/step - loss: 420.9627 - root_mean_squared_error: 20.5174 - val_loss: 477.5882 - val_root_mean_squared_error: 21.8538 - lr: 0.0010\n",
      "Epoch 34/300\n",
      "216/216 [==============================] - 4s 18ms/step - loss: 419.0520 - root_mean_squared_error: 20.4708 - val_loss: 474.6978 - val_root_mean_squared_error: 21.7876 - lr: 0.0010\n",
      "Epoch 35/300\n",
      "216/216 [==============================] - 5s 25ms/step - loss: 419.9773 - root_mean_squared_error: 20.4933 - val_loss: 474.8688 - val_root_mean_squared_error: 21.7915 - lr: 0.0010\n",
      "Epoch 36/300\n",
      "216/216 [==============================] - 4s 17ms/step - loss: 419.0399 - root_mean_squared_error: 20.4705 - val_loss: 474.3549 - val_root_mean_squared_error: 21.7797 - lr: 0.0010\n",
      "Epoch 37/300\n",
      "216/216 [==============================] - 7s 31ms/step - loss: 418.4301 - root_mean_squared_error: 20.4556 - val_loss: 469.3505 - val_root_mean_squared_error: 21.6645 - lr: 0.0010\n",
      "Epoch 38/300\n",
      "216/216 [==============================] - 6s 26ms/step - loss: 417.4565 - root_mean_squared_error: 20.4318 - val_loss: 473.8313 - val_root_mean_squared_error: 21.7677 - lr: 0.0010\n",
      "Epoch 39/300\n",
      "216/216 [==============================] - 4s 18ms/step - loss: 416.8272 - root_mean_squared_error: 20.4163 - val_loss: 472.6078 - val_root_mean_squared_error: 21.7395 - lr: 0.0010\n",
      "Epoch 40/300\n",
      "216/216 [==============================] - 4s 19ms/step - loss: 415.6832 - root_mean_squared_error: 20.3883 - val_loss: 469.9958 - val_root_mean_squared_error: 21.6794 - lr: 0.0010\n",
      "Epoch 41/300\n",
      "216/216 [==============================] - 6s 29ms/step - loss: 416.3920 - root_mean_squared_error: 20.4057 - val_loss: 468.4623 - val_root_mean_squared_error: 21.6440 - lr: 0.0010\n",
      "Epoch 42/300\n",
      "216/216 [==============================] - 4s 18ms/step - loss: 414.5353 - root_mean_squared_error: 20.3601 - val_loss: 469.8177 - val_root_mean_squared_error: 21.6753 - lr: 0.0010\n",
      "Epoch 43/300\n",
      "216/216 [==============================] - 7s 34ms/step - loss: 415.1205 - root_mean_squared_error: 20.3745 - val_loss: 464.7137 - val_root_mean_squared_error: 21.5572 - lr: 0.0010\n",
      "Epoch 44/300\n",
      "216/216 [==============================] - 4s 18ms/step - loss: 414.6071 - root_mean_squared_error: 20.3619 - val_loss: 469.4348 - val_root_mean_squared_error: 21.6664 - lr: 0.0010\n",
      "Epoch 45/300\n",
      "216/216 [==============================] - 4s 21ms/step - loss: 410.3730 - root_mean_squared_error: 20.2577 - val_loss: 470.5784 - val_root_mean_squared_error: 21.6928 - lr: 0.0010\n",
      "Epoch 46/300\n",
      "216/216 [==============================] - 4s 17ms/step - loss: 411.8811 - root_mean_squared_error: 20.2949 - val_loss: 466.8304 - val_root_mean_squared_error: 21.6063 - lr: 0.0010\n",
      "Epoch 47/300\n",
      "216/216 [==============================] - 7s 33ms/step - loss: 410.9621 - root_mean_squared_error: 20.2722 - val_loss: 463.7089 - val_root_mean_squared_error: 21.5339 - lr: 0.0010\n",
      "Epoch 48/300\n",
      "216/216 [==============================] - 6s 29ms/step - loss: 411.6418 - root_mean_squared_error: 20.2890 - val_loss: 463.4235 - val_root_mean_squared_error: 21.5273 - lr: 0.0010\n",
      "Epoch 49/300\n",
      "216/216 [==============================] - 4s 18ms/step - loss: 410.8803 - root_mean_squared_error: 20.2702 - val_loss: 467.4491 - val_root_mean_squared_error: 21.6206 - lr: 0.0010\n",
      "Epoch 50/300\n",
      "216/216 [==============================] - 4s 19ms/step - loss: 411.0437 - root_mean_squared_error: 20.2742 - val_loss: 466.2176 - val_root_mean_squared_error: 21.5921 - lr: 0.0010\n",
      "Epoch 51/300\n",
      "216/216 [==============================] - 4s 19ms/step - loss: 409.0980 - root_mean_squared_error: 20.2262 - val_loss: 469.0273 - val_root_mean_squared_error: 21.6570 - lr: 0.0010\n",
      "Epoch 52/300\n",
      "216/216 [==============================] - 4s 17ms/step - loss: 410.5465 - root_mean_squared_error: 20.2619 - val_loss: 467.9070 - val_root_mean_squared_error: 21.6312 - lr: 0.0010\n",
      "Epoch 53/300\n",
      "216/216 [==============================] - 7s 35ms/step - loss: 410.0134 - root_mean_squared_error: 20.2488 - val_loss: 462.5297 - val_root_mean_squared_error: 21.5065 - lr: 0.0010\n",
      "Epoch 54/300\n",
      "216/216 [==============================] - 5s 25ms/step - loss: 410.0818 - root_mean_squared_error: 20.2505 - val_loss: 463.5492 - val_root_mean_squared_error: 21.5302 - lr: 0.0010\n",
      "Epoch 55/300\n",
      "216/216 [==============================] - 5s 22ms/step - loss: 408.5187 - root_mean_squared_error: 20.2118 - val_loss: 464.2988 - val_root_mean_squared_error: 21.5476 - lr: 0.0010\n",
      "Epoch 56/300\n",
      "216/216 [==============================] - 5s 21ms/step - loss: 408.8791 - root_mean_squared_error: 20.2208 - val_loss: 463.2318 - val_root_mean_squared_error: 21.5228 - lr: 0.0010\n",
      "Epoch 57/300\n",
      "216/216 [==============================] - 4s 17ms/step - loss: 408.7723 - root_mean_squared_error: 20.2181 - val_loss: 464.3850 - val_root_mean_squared_error: 21.5496 - lr: 0.0010\n",
      "Epoch 58/300\n",
      "216/216 [==============================] - 6s 26ms/step - loss: 408.7627 - root_mean_squared_error: 20.2179 - val_loss: 464.5190 - val_root_mean_squared_error: 21.5527 - lr: 0.0010\n",
      "Epoch 59/300\n",
      "216/216 [==============================] - 4s 18ms/step - loss: 406.7314 - root_mean_squared_error: 20.1676 - val_loss: 462.7370 - val_root_mean_squared_error: 21.5113 - lr: 0.0010\n",
      "Epoch 60/300\n",
      "216/216 [==============================] - 6s 27ms/step - loss: 407.3048 - root_mean_squared_error: 20.1818 - val_loss: 461.9155 - val_root_mean_squared_error: 21.4922 - lr: 0.0010\n",
      "Epoch 61/300\n",
      "216/216 [==============================] - 4s 18ms/step - loss: 406.7670 - root_mean_squared_error: 20.1685 - val_loss: 463.5880 - val_root_mean_squared_error: 21.5311 - lr: 0.0010\n",
      "Epoch 62/300\n",
      "216/216 [==============================] - 5s 24ms/step - loss: 405.9641 - root_mean_squared_error: 20.1486 - val_loss: 462.8559 - val_root_mean_squared_error: 21.5141 - lr: 0.0010\n",
      "Epoch 63/300\n",
      "216/216 [==============================] - 4s 18ms/step - loss: 406.4182 - root_mean_squared_error: 20.1598 - val_loss: 462.7818 - val_root_mean_squared_error: 21.5124 - lr: 0.0010\n",
      "Epoch 64/300\n",
      "216/216 [==============================] - 6s 28ms/step - loss: 407.4482 - root_mean_squared_error: 20.1853 - val_loss: 460.3834 - val_root_mean_squared_error: 21.4565 - lr: 0.0010\n",
      "Epoch 65/300\n",
      "216/216 [==============================] - 4s 17ms/step - loss: 405.3656 - root_mean_squared_error: 20.1337 - val_loss: 462.6239 - val_root_mean_squared_error: 21.5087 - lr: 0.0010\n",
      "Epoch 66/300\n",
      "216/216 [==============================] - 4s 19ms/step - loss: 406.1465 - root_mean_squared_error: 20.1531 - val_loss: 464.2211 - val_root_mean_squared_error: 21.5458 - lr: 0.0010\n",
      "Epoch 67/300\n",
      "216/216 [==============================] - 4s 20ms/step - loss: 404.2549 - root_mean_squared_error: 20.1061 - val_loss: 461.9223 - val_root_mean_squared_error: 21.4924 - lr: 0.0010\n",
      "Epoch 68/300\n",
      "216/216 [==============================] - 4s 17ms/step - loss: 405.3163 - root_mean_squared_error: 20.1325 - val_loss: 465.1321 - val_root_mean_squared_error: 21.5669 - lr: 0.0010\n",
      "Epoch 69/300\n",
      "216/216 [==============================] - 5s 25ms/step - loss: 404.7009 - root_mean_squared_error: 20.1172 - val_loss: 470.0312 - val_root_mean_squared_error: 21.6802 - lr: 0.0010\n",
      "Epoch 70/300\n",
      "216/216 [==============================] - 4s 18ms/step - loss: 404.2581 - root_mean_squared_error: 20.1062 - val_loss: 462.2267 - val_root_mean_squared_error: 21.4995 - lr: 0.0010\n",
      "Epoch 71/300\n",
      "216/216 [==============================] - 4s 18ms/step - loss: 401.6439 - root_mean_squared_error: 20.0411 - val_loss: 462.1393 - val_root_mean_squared_error: 21.4974 - lr: 0.0010\n",
      "Epoch 72/300\n",
      "216/216 [==============================] - 6s 26ms/step - loss: 402.5508 - root_mean_squared_error: 20.0637 - val_loss: 461.7980 - val_root_mean_squared_error: 21.4895 - lr: 0.0010\n",
      "Epoch 73/300\n",
      "216/216 [==============================] - 4s 18ms/step - loss: 402.4996 - root_mean_squared_error: 20.0624 - val_loss: 463.0187 - val_root_mean_squared_error: 21.5179 - lr: 0.0010\n",
      "Epoch 74/300\n",
      "216/216 [==============================] - 4s 19ms/step - loss: 401.9911 - root_mean_squared_error: 20.0497 - val_loss: 462.3110 - val_root_mean_squared_error: 21.5014 - lr: 0.0010\n",
      "Epoch 75/300\n",
      "216/216 [==============================] - 6s 27ms/step - loss: 396.2080 - root_mean_squared_error: 19.9050 - val_loss: 459.4157 - val_root_mean_squared_error: 21.4340 - lr: 1.0000e-04\n",
      "Epoch 76/300\n",
      "216/216 [==============================] - 8s 38ms/step - loss: 394.6365 - root_mean_squared_error: 19.8655 - val_loss: 458.8961 - val_root_mean_squared_error: 21.4219 - lr: 1.0000e-04\n",
      "Epoch 77/300\n",
      "216/216 [==============================] - 4s 18ms/step - loss: 394.7177 - root_mean_squared_error: 19.8675 - val_loss: 459.7313 - val_root_mean_squared_error: 21.4413 - lr: 1.0000e-04\n",
      "Epoch 78/300\n",
      "216/216 [==============================] - 7s 35ms/step - loss: 393.6468 - root_mean_squared_error: 19.8405 - val_loss: 458.2080 - val_root_mean_squared_error: 21.4058 - lr: 1.0000e-04\n",
      "Epoch 79/300\n",
      "216/216 [==============================] - 4s 18ms/step - loss: 392.0963 - root_mean_squared_error: 19.8014 - val_loss: 458.5445 - val_root_mean_squared_error: 21.4137 - lr: 1.0000e-04\n",
      "Epoch 80/300\n",
      "216/216 [==============================] - 8s 36ms/step - loss: 392.0692 - root_mean_squared_error: 19.8007 - val_loss: 458.1700 - val_root_mean_squared_error: 21.4049 - lr: 1.0000e-04\n",
      "Epoch 81/300\n",
      "216/216 [==============================] - 7s 32ms/step - loss: 391.4117 - root_mean_squared_error: 19.7841 - val_loss: 457.1967 - val_root_mean_squared_error: 21.3822 - lr: 1.0000e-04\n",
      "Epoch 82/300\n",
      "216/216 [==============================] - 4s 18ms/step - loss: 389.9512 - root_mean_squared_error: 19.7472 - val_loss: 457.3549 - val_root_mean_squared_error: 21.3859 - lr: 1.0000e-04\n",
      "Epoch 83/300\n",
      "216/216 [==============================] - 7s 33ms/step - loss: 389.5310 - root_mean_squared_error: 19.7365 - val_loss: 456.9505 - val_root_mean_squared_error: 21.3764 - lr: 1.0000e-04\n",
      "Epoch 84/300\n",
      "216/216 [==============================] - 6s 30ms/step - loss: 390.4358 - root_mean_squared_error: 19.7594 - val_loss: 456.9241 - val_root_mean_squared_error: 21.3758 - lr: 1.0000e-04\n",
      "Epoch 85/300\n",
      "216/216 [==============================] - 5s 22ms/step - loss: 390.9818 - root_mean_squared_error: 19.7733 - val_loss: 457.2210 - val_root_mean_squared_error: 21.3827 - lr: 1.0000e-04\n",
      "Epoch 86/300\n",
      "216/216 [==============================] - 7s 30ms/step - loss: 390.4243 - root_mean_squared_error: 19.7592 - val_loss: 456.8630 - val_root_mean_squared_error: 21.3744 - lr: 1.0000e-04\n",
      "Epoch 87/300\n",
      "216/216 [==============================] - 6s 29ms/step - loss: 391.4169 - root_mean_squared_error: 19.7843 - val_loss: 455.6726 - val_root_mean_squared_error: 21.3465 - lr: 1.0000e-04\n",
      "Epoch 88/300\n",
      "216/216 [==============================] - 4s 18ms/step - loss: 390.0709 - root_mean_squared_error: 19.7502 - val_loss: 457.4479 - val_root_mean_squared_error: 21.3880 - lr: 1.0000e-04\n",
      "Epoch 89/300\n",
      "216/216 [==============================] - 4s 20ms/step - loss: 390.7680 - root_mean_squared_error: 19.7679 - val_loss: 456.3924 - val_root_mean_squared_error: 21.3633 - lr: 1.0000e-04\n",
      "Epoch 90/300\n",
      "216/216 [==============================] - 5s 24ms/step - loss: 391.3600 - root_mean_squared_error: 19.7828 - val_loss: 455.7558 - val_root_mean_squared_error: 21.3484 - lr: 1.0000e-04\n",
      "Epoch 91/300\n",
      "216/216 [==============================] - 4s 18ms/step - loss: 389.0386 - root_mean_squared_error: 19.7241 - val_loss: 455.9939 - val_root_mean_squared_error: 21.3540 - lr: 1.0000e-04\n",
      "Epoch 92/300\n",
      "216/216 [==============================] - 6s 26ms/step - loss: 390.4848 - root_mean_squared_error: 19.7607 - val_loss: 456.5878 - val_root_mean_squared_error: 21.3679 - lr: 1.0000e-04\n",
      "Epoch 93/300\n",
      "216/216 [==============================] - 4s 18ms/step - loss: 390.0131 - root_mean_squared_error: 19.7487 - val_loss: 457.0262 - val_root_mean_squared_error: 21.3782 - lr: 1.0000e-04\n",
      "Epoch 94/300\n",
      "216/216 [==============================] - 6s 26ms/step - loss: 388.1224 - root_mean_squared_error: 19.7008 - val_loss: 456.0445 - val_root_mean_squared_error: 21.3552 - lr: 1.0000e-04\n",
      "Epoch 95/300\n",
      "216/216 [==============================] - 4s 18ms/step - loss: 387.1064 - root_mean_squared_error: 19.6750 - val_loss: 456.5567 - val_root_mean_squared_error: 21.3672 - lr: 1.0000e-04\n",
      "Epoch 96/300\n",
      "216/216 [==============================] - 5s 22ms/step - loss: 389.9186 - root_mean_squared_error: 19.7464 - val_loss: 456.3401 - val_root_mean_squared_error: 21.3621 - lr: 1.0000e-04\n",
      "Epoch 97/300\n",
      "216/216 [==============================] - 4s 20ms/step - loss: 388.0640 - root_mean_squared_error: 19.6993 - val_loss: 456.2447 - val_root_mean_squared_error: 21.3599 - lr: 1.0000e-04\n",
      "Epoch 98/300\n",
      "216/216 [==============================] - 4s 18ms/step - loss: 389.7635 - root_mean_squared_error: 19.7424 - val_loss: 456.4607 - val_root_mean_squared_error: 21.3649 - lr: 1.0000e-05\n",
      "Epoch 99/300\n",
      "216/216 [==============================] - 6s 25ms/step - loss: 389.3330 - root_mean_squared_error: 19.7315 - val_loss: 456.6815 - val_root_mean_squared_error: 21.3701 - lr: 1.0000e-05\n",
      "Epoch 100/300\n",
      "216/216 [==============================] - 4s 19ms/step - loss: 389.1943 - root_mean_squared_error: 19.7280 - val_loss: 456.7932 - val_root_mean_squared_error: 21.3727 - lr: 1.0000e-05\n",
      "Epoch 101/300\n",
      "216/216 [==============================] - 4s 21ms/step - loss: 388.2457 - root_mean_squared_error: 19.7040 - val_loss: 456.5895 - val_root_mean_squared_error: 21.3680 - lr: 1.0000e-05\n",
      "Epoch 102/300\n",
      "216/216 [==============================] - 4s 18ms/step - loss: 388.1111 - root_mean_squared_error: 19.7005 - val_loss: 456.4822 - val_root_mean_squared_error: 21.3654 - lr: 1.0000e-05\n",
      "Epoch 103/300\n",
      "216/216 [==============================] - 5s 23ms/step - loss: 389.3270 - root_mean_squared_error: 19.7314 - val_loss: 456.6808 - val_root_mean_squared_error: 21.3701 - lr: 1.0000e-05\n",
      "Epoch 104/300\n",
      "216/216 [==============================] - 4s 20ms/step - loss: 386.5486 - root_mean_squared_error: 19.6608 - val_loss: 456.5257 - val_root_mean_squared_error: 21.3665 - lr: 1.0000e-05\n",
      "Epoch 105/300\n",
      "216/216 [==============================] - 4s 18ms/step - loss: 389.9433 - root_mean_squared_error: 19.7470 - val_loss: 456.5295 - val_root_mean_squared_error: 21.3666 - lr: 1.0000e-05\n",
      "Epoch 106/300\n",
      "216/216 [==============================] - 5s 24ms/step - loss: 387.0190 - root_mean_squared_error: 19.6728 - val_loss: 456.5826 - val_root_mean_squared_error: 21.3678 - lr: 1.0000e-05\n",
      "Epoch 107/300\n",
      "216/216 [==============================] - 6s 28ms/step - loss: 386.5530 - root_mean_squared_error: 19.6610 - val_loss: 456.8440 - val_root_mean_squared_error: 21.3739 - lr: 1.0000e-05\n",
      "Epoch 108/300\n",
      "216/216 [==============================] - 6s 26ms/step - loss: 388.5522 - root_mean_squared_error: 19.7117 - val_loss: 456.8217 - val_root_mean_squared_error: 21.3734 - lr: 1.0000e-06\n",
      "Epoch 109/300\n",
      "216/216 [==============================] - 4s 18ms/step - loss: 389.7068 - root_mean_squared_error: 19.7410 - val_loss: 456.8226 - val_root_mean_squared_error: 21.3734 - lr: 1.0000e-06\n",
      "Epoch 110/300\n",
      "216/216 [==============================] - 4s 18ms/step - loss: 387.5953 - root_mean_squared_error: 19.6874 - val_loss: 456.7849 - val_root_mean_squared_error: 21.3725 - lr: 1.0000e-06\n",
      "Epoch 111/300\n",
      "216/216 [==============================] - 4s 20ms/step - loss: 387.9024 - root_mean_squared_error: 19.6952 - val_loss: 456.7607 - val_root_mean_squared_error: 21.3720 - lr: 1.0000e-06\n",
      "Epoch 112/300\n",
      "216/216 [==============================] - 4s 18ms/step - loss: 386.6840 - root_mean_squared_error: 19.6643 - val_loss: 456.7644 - val_root_mean_squared_error: 21.3720 - lr: 1.0000e-06\n",
      "Epoch 113/300\n",
      "216/216 [==============================] - 6s 26ms/step - loss: 387.8196 - root_mean_squared_error: 19.6931 - val_loss: 456.7569 - val_root_mean_squared_error: 21.3719 - lr: 1.0000e-06\n",
      "Epoch 114/300\n",
      "216/216 [==============================] - 4s 18ms/step - loss: 387.8567 - root_mean_squared_error: 19.6941 - val_loss: 456.7943 - val_root_mean_squared_error: 21.3727 - lr: 1.0000e-06\n",
      "Epoch 115/300\n",
      "216/216 [==============================] - 4s 18ms/step - loss: 386.4690 - root_mean_squared_error: 19.6588 - val_loss: 456.7551 - val_root_mean_squared_error: 21.3718 - lr: 1.0000e-06\n",
      "Epoch 116/300\n",
      "216/216 [==============================] - 6s 26ms/step - loss: 386.0669 - root_mean_squared_error: 19.6486 - val_loss: 456.7660 - val_root_mean_squared_error: 21.3721 - lr: 1.0000e-06\n",
      "Epoch 117/300\n",
      "216/216 [==============================] - 4s 18ms/step - loss: 386.5784 - root_mean_squared_error: 19.6616 - val_loss: 456.7816 - val_root_mean_squared_error: 21.3724 - lr: 1.0000e-06\n",
      "Epoch 118/300\n",
      "216/216 [==============================] - 5s 21ms/step - loss: 387.4442 - root_mean_squared_error: 19.6836 - val_loss: 456.7769 - val_root_mean_squared_error: 21.3723 - lr: 1.0000e-07\n",
      "Epoch 119/300\n",
      "216/216 [==============================] - 5s 22ms/step - loss: 387.6899 - root_mean_squared_error: 19.6898 - val_loss: 456.7774 - val_root_mean_squared_error: 21.3724 - lr: 1.0000e-07\n",
      "Epoch 120/300\n",
      "216/216 [==============================] - 4s 18ms/step - loss: 388.8004 - root_mean_squared_error: 19.7180 - val_loss: 456.7806 - val_root_mean_squared_error: 21.3724 - lr: 1.0000e-07\n",
      "Epoch 121/300\n",
      "216/216 [==============================] - 4s 19ms/step - loss: 386.7845 - root_mean_squared_error: 19.6668 - val_loss: 456.7815 - val_root_mean_squared_error: 21.3724 - lr: 1.0000e-07\n",
      "Epoch 122/300\n",
      "216/216 [==============================] - 5s 24ms/step - loss: 387.8198 - root_mean_squared_error: 19.6931 - val_loss: 456.7850 - val_root_mean_squared_error: 21.3725 - lr: 1.0000e-07\n",
      "Evaluating on patient_id: 559\n",
      "all rolling: 2420\n",
      "2234 size before reduction\n",
      "2234 size after reduction\n",
      "55 windows with too many nans\n",
      "120 windows with empty labels\n",
      "all rolling: 2876\n",
      "2392 size before reduction\n",
      "2392 size after reduction\n",
      "124 windows with too many nans\n",
      "349 windows with empty labels\n",
      "Evaluating on patient_id: 563\n",
      "all rolling: 2627\n",
      "2440 size before reduction\n",
      "2440 size after reduction\n",
      "74 windows with too many nans\n",
      "102 windows with empty labels\n",
      "all rolling: 2814\n",
      "2537 size before reduction\n",
      "2537 size after reduction\n",
      "32 windows with too many nans\n",
      "234 windows with empty labels\n",
      "Evaluating on patient_id: 570\n",
      "all rolling: 2362\n",
      "2163 size before reduction\n",
      "2163 size after reduction\n",
      "55 windows with too many nans\n",
      "133 windows with empty labels\n",
      "all rolling: 2880\n",
      "2646 size before reduction\n",
      "2646 size after reduction\n",
      "101 windows with too many nans\n",
      "122 windows with empty labels\n",
      "Evaluating on patient_id: 575\n",
      "all rolling: 2621\n",
      "2383 size before reduction\n",
      "2383 size after reduction\n",
      "72 windows with too many nans\n",
      "155 windows with empty labels\n",
      "all rolling: 2745\n",
      "2492 size before reduction\n",
      "2492 size after reduction\n",
      "98 windows with too many nans\n",
      "144 windows with empty labels\n",
      "Evaluating on patient_id: 588\n",
      "all rolling: 2650\n",
      "2606 size before reduction\n",
      "2606 size after reduction\n",
      "18 windows with too many nans\n",
      "15 windows with empty labels\n",
      "all rolling: 2880\n",
      "2759 size before reduction\n",
      "2759 size after reduction\n",
      "26 windows with too many nans\n",
      "84 windows with empty labels\n",
      "Evaluating on patient_id: 591\n",
      "all rolling: 2592\n",
      "2508 size before reduction\n",
      "2508 size after reduction\n",
      "22 windows with too many nans\n",
      "51 windows with empty labels\n",
      "all rolling: 2847\n",
      "2715 size before reduction\n",
      "2715 size after reduction\n",
      "38 windows with too many nans\n",
      "83 windows with empty labels\n"
     ]
    },
    {
     "output_type": "display_data",
     "data": {
      "text/plain": [
       "<Figure size 640x480 with 1 Axes>"
      ],
      "image/png": "[encoded data removed]"
     },
     "metadata": {}
    }
   ]
  },
  {
   "cell_type": "code",
   "source": [
    "test_errs"
   ],
   "metadata": {
    "colab": {
     "base_uri": "https://localhost:8080/"
    },
    "id": "cLLco4znw2Gl",
    "executionInfo": {
     "status": "ok",
     "timestamp": 1712329030102,
     "user_tz": -120,
     "elapsed": 1105,
     "user": {
      "displayName": "Ladislav Floriš",
      "userId": "00923364794303765935"
     }
    },
    "outputId": "b4be6374-fe86-405d-8b2a-3ff527075dce"
   },
   "execution_count": 27,
   "outputs": [
    {
     "output_type": "execute_result",
     "data": {
      "text/plain": [
       "[('lmu_2018_ph30min_full_wins_0', '559', 17.653114318847656),\n",
       " ('lmu_2018_ph30min_full_wins_0', '563', 17.471981048583984),\n",
       " ('lmu_2018_ph30min_full_wins_0', '570', 15.05150318145752),\n",
       " ('lmu_2018_ph30min_full_wins_0', '575', 20.91191291809082),\n",
       " ('lmu_2018_ph30min_full_wins_0', '588', 16.66705322265625),\n",
       " ('lmu_2018_ph30min_full_wins_0', '591', 20.447036743164062)]"
      ]
     },
     "metadata": {},
     "execution_count": 27
    }
   ]
  },
  {
   "cell_type": "code",
   "source": [
    "val_errs"
   ],
   "metadata": {
    "colab": {
     "base_uri": "https://localhost:8080/"
    },
    "id": "IzwSKarhw3Oi",
    "executionInfo": {
     "status": "ok",
     "timestamp": 1712329033663,
     "user_tz": -120,
     "elapsed": 5,
     "user": {
      "displayName": "Ladislav Floriš",
      "userId": "00923364794303765935"
     }
    },
    "outputId": "c83bff59-e7e1-408c-f751-9d67b134c8e6"
   },
   "execution_count": 28,
   "outputs": [
    {
     "output_type": "execute_result",
     "data": {
      "text/plain": [
       "[('lmu_2018_ph30min_full_wins_0', '559', 20.28468132019043),\n",
       " ('lmu_2018_ph30min_full_wins_0', '563', 17.87293815612793),\n",
       " ('lmu_2018_ph30min_full_wins_0', '570', 16.675077438354492),\n",
       " ('lmu_2018_ph30min_full_wins_0', '575', 20.914928436279297),\n",
       " ('lmu_2018_ph30min_full_wins_0', '588', 18.90682029724121),\n",
       " ('lmu_2018_ph30min_full_wins_0', '591', 30.00229263305664)]"
      ]
     },
     "metadata": {},
     "execution_count": 28
    }
   ]
  },
  {
   "cell_type": "code",
   "source": [
    "df_results_test = pd.DataFrame(test_errs, columns=['Model iteration', 'Patient ID', 'RMSE'])\n",
    "df_results_test['Model'] = df_results_test['Model iteration'].str.replace(r'_\\d+$', '', regex=True)\n",
    "df_results_test.groupby(['Model iteration'])['RMSE'].agg(['mean'])"
   ],
   "metadata": {
    "colab": {
     "base_uri": "https://localhost:8080/",
     "height": 112
    },
    "id": "ozGFxJRhrO9K",
    "executionInfo": {
     "status": "ok",
     "timestamp": 1712328542730,
     "user_tz": -120,
     "elapsed": 20,
     "user": {
      "displayName": "Ladislav Floriš",
      "userId": "00923364794303765935"
     }
    },
    "outputId": "8ce93955-e06d-4748-f0fe-c8e93c9d7a8f"
   },
   "execution_count": 20,
   "outputs": [
    {
     "output_type": "execute_result",
     "data": {
      "text/plain": [
       "                                   mean\n",
       "Model iteration                        \n",
       "lmu_2018_ph30min_full_wins_0  18.033767"
      ],
      "text/html": [
       "\n",
       "  <div id=\"df-6b72f41d-e002-4dc2-9f38-4ff4eb399953\" class=\"colab-df-container\">\n",
       "    <div>\n",
       "<style scoped>\n",
       "    .dataframe tbody tr th:only-of-type {\n",
       "        vertical-align: middle;\n",
       "    }\n",
       "\n",
       "    .dataframe tbody tr th {\n",
       "        vertical-align: top;\n",
       "    }\n",
       "\n",
       "    .dataframe thead th {\n",
       "        text-align: right;\n",
       "    }\n",
       "</style>\n",
       "<table border=\"1\" class=\"dataframe\">\n",
       "  <thead>\n",
       "    <tr style=\"text-align: right;\">\n",
       "      <th></th>\n",
       "      <th>mean</th>\n",
       "    </tr>\n",
       "    <tr>\n",
       "      <th>Model iteration</th>\n",
       "      <th></th>\n",
       "    </tr>\n",
       "  </thead>\n",
       "  <tbody>\n",
       "    <tr>\n",
       "      <th>lmu_2018_ph30min_full_wins_0</th>\n",
       "      <td>18.033767</td>\n",
       "    </tr>\n",
       "  </tbody>\n",
       "</table>\n",
       "</div>\n",
       "    <div class=\"colab-df-buttons\">\n",
       "\n",
       "  <div class=\"colab-df-container\">\n",
       "    <button class=\"colab-df-convert\" onclick=\"convertToInteractive('df-6b72f41d-e002-4dc2-9f38-4ff4eb399953')\"\n",
       "            title=\"Convert this dataframe to an interactive table.\"\n",
       "            style=\"display:none;\">\n",
       "\n",
       "  <svg xmlns=\"http://www.w3.org/2000/svg\" height=\"24px\" viewBox=\"0 -960 960 960\">\n",
       "    <path d=\"M120-120v-720h720v720H120Zm60-500h600v-160H180v160Zm220 220h160v-160H400v160Zm0 220h160v-160H400v160ZM180-400h160v-160H180v160Zm440 0h160v-160H620v160ZM180-180h160v-160H180v160Zm440 0h160v-160H620v160Z\"/>\n",
       "  </svg>\n",
       "    </button>\n",
       "\n",
       "  <style>\n",
       "    .colab-df-container {\n",
       "      display:flex;\n",
       "      gap: 12px;\n",
       "    }\n",
       "\n",
       "    .colab-df-convert {\n",
       "      background-color: #E8F0FE;\n",
       "      border: none;\n",
       "      border-radius: 50%;\n",
       "      cursor: pointer;\n",
       "      display: none;\n",
       "      fill: #1967D2;\n",
       "      height: 32px;\n",
       "      padding: 0 0 0 0;\n",
       "      width: 32px;\n",
       "    }\n",
       "\n",
       "    .colab-df-convert:hover {\n",
       "      background-color: #E2EBFA;\n",
       "      box-shadow: 0px 1px 2px rgba(60, 64, 67, 0.3), 0px 1px 3px 1px rgba(60, 64, 67, 0.15);\n",
       "      fill: #174EA6;\n",
       "    }\n",
       "\n",
       "    .colab-df-buttons div {\n",
       "      margin-bottom: 4px;\n",
       "    }\n",
       "\n",
       "    [theme=dark] .colab-df-convert {\n",
       "      background-color: #3B4455;\n",
       "      fill: #D2E3FC;\n",
       "    }\n",
       "\n",
       "    [theme=dark] .colab-df-convert:hover {\n",
       "      background-color: #434B5C;\n",
       "      box-shadow: 0px 1px 3px 1px rgba(0, 0, 0, 0.15);\n",
       "      filter: drop-shadow(0px 1px 2px rgba(0, 0, 0, 0.3));\n",
       "      fill: #FFFFFF;\n",
       "    }\n",
       "  </style>\n",
       "\n",
       "    <script>\n",
       "      const buttonEl =\n",
       "        document.querySelector('#df-6b72f41d-e002-4dc2-9f38-4ff4eb399953 button.colab-df-convert');\n",
       "      buttonEl.style.display =\n",
       "        google.colab.kernel.accessAllowed ? 'block' : 'none';\n",
       "\n",
       "      async function convertToInteractive(key) {\n",
       "        const element = document.querySelector('#df-6b72f41d-e002-4dc2-9f38-4ff4eb399953');\n",
       "        const dataTable =\n",
       "          await google.colab.kernel.invokeFunction('convertToInteractive',\n",
       "                                                    [key], {});\n",
       "        if (!dataTable) return;\n",
       "\n",
       "        const docLinkHtml = 'Like what you see? Visit the ' +\n",
       "          '<a target=\"_blank\" href=https://colab.research.google.com/notebooks/data_table.ipynb>data table notebook</a>'\n",
       "          + ' to learn more about interactive tables.';\n",
       "        element.innerHTML = '';\n",
       "        dataTable['output_type'] = 'display_data';\n",
       "        await google.colab.output.renderOutput(dataTable, element);\n",
       "        const docLink = document.createElement('div');\n",
       "        docLink.innerHTML = docLinkHtml;\n",
       "        element.appendChild(docLink);\n",
       "      }\n",
       "    </script>\n",
       "  </div>\n",
       "\n",
       "    </div>\n",
       "  </div>\n"
      ],
      "application/vnd.google.colaboratory.intrinsic+json": {
       "type": "dataframe",
       "summary": "{\n  \"name\": \"df_results_test\",\n  \"rows\": 1,\n  \"fields\": [\n    {\n      \"column\": \"Model iteration\",\n      \"properties\": {\n        \"dtype\": \"string\",\n        \"num_unique_values\": 1,\n        \"samples\": [\n          \"lmu_2018_ph30min_full_wins_0\"\n        ],\n        \"semantic_type\": \"\",\n        \"description\": \"\"\n      }\n    },\n    {\n      \"column\": \"mean\",\n      \"properties\": {\n        \"dtype\": \"number\",\n        \"std\": null,\n        \"min\": 18.033766905466717,\n        \"max\": 18.033766905466717,\n        \"num_unique_values\": 1,\n        \"samples\": [\n          18.033766905466717\n        ],\n        \"semantic_type\": \"\",\n        \"description\": \"\"\n      }\n    }\n  ]\n}"
      }
     },
     "metadata": {},
     "execution_count": 20
    }
   ]
  }
 ]
}
